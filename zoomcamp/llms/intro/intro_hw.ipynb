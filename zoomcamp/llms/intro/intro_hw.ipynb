{
 "cells": [
  {
   "cell_type": "code",
   "execution_count": 84,
   "id": "6935bac8-3256-4256-883e-23e4202772ff",
   "metadata": {},
   "outputs": [],
   "source": [
    "import requests \n",
    "from elasticsearch import Elasticsearch\n",
    "from tqdm.auto import tqdm\n",
    "import tiktoken"
   ]
  },
  {
   "cell_type": "code",
   "execution_count": 2,
   "id": "7fc051ed-d33d-489f-a36c-278366eca1ae",
   "metadata": {},
   "outputs": [],
   "source": [
    "docs_url = 'https://github.com/DataTalksClub/llm-zoomcamp/blob/main/01-intro/documents.json?raw=1'\n",
    "docs_response = requests.get(docs_url)\n",
    "documents_raw = docs_response.json()\n",
    "\n",
    "documents = []\n",
    "\n",
    "for course in documents_raw:\n",
    "    course_name = course['course']\n",
    "\n",
    "    for doc in course['documents']:\n",
    "        doc['course'] = course_name\n",
    "        documents.append(doc)"
   ]
  },
  {
   "cell_type": "code",
   "execution_count": 9,
   "id": "1674c43d-6c3f-4eee-9a56-219a14fb6fbf",
   "metadata": {},
   "outputs": [],
   "source": [
    "es_client = Elasticsearch('http://localhost:9200') "
   ]
  },
  {
   "cell_type": "code",
   "execution_count": 10,
   "id": "1de57edb-818f-407c-ad0b-d5e98e21bd92",
   "metadata": {},
   "outputs": [
    {
     "data": {
      "text/plain": [
       "{'text': 'GitHub - DataTalksClub data-engineering-zoomcamp#prerequisites',\n",
       " 'section': 'General course-related questions',\n",
       " 'question': 'Course - What are the prerequisites for this course?',\n",
       " 'course': 'data-engineering-zoomcamp'}"
      ]
     },
     "execution_count": 10,
     "metadata": {},
     "output_type": "execute_result"
    }
   ],
   "source": [
    "documents[1]"
   ]
  },
  {
   "cell_type": "code",
   "execution_count": 11,
   "id": "20542578-16d6-4aec-872b-ab3892225d10",
   "metadata": {},
   "outputs": [
    {
     "data": {
      "text/plain": [
       "ObjectApiResponse({'acknowledged': True, 'shards_acknowledged': True, 'index': 'course-questions'})"
      ]
     },
     "execution_count": 11,
     "metadata": {},
     "output_type": "execute_result"
    }
   ],
   "source": [
    "index_settings = {\n",
    "    \"settings\": {\n",
    "        \"number_of_shards\": 1,\n",
    "        \"number_of_replicas\": 0\n",
    "    },\n",
    "    \"mappings\": {\n",
    "        \"properties\": {\n",
    "            \"text\": {\"type\": \"text\"},\n",
    "            \"section\": {\"type\": \"text\"},\n",
    "            \"question\": {\"type\": \"text\"},\n",
    "            \"course\": {\"type\": \"keyword\"} \n",
    "        }\n",
    "    }\n",
    "}\n",
    "\n",
    "index_name = \"course-questions\"\n",
    "\n",
    "es_client.indices.create(index=index_name, body=index_settings)"
   ]
  },
  {
   "cell_type": "code",
   "execution_count": 13,
   "id": "618fa0f5-9ced-434c-a9b9-b222f90e21b1",
   "metadata": {},
   "outputs": [],
   "source": [
    "for doc in tqdm(documents):\n",
    "    es_client.index(index=index_name, document=doc)"
   ]
  },
  {
   "cell_type": "code",
   "execution_count": 18,
   "id": "f80f2de6-d921-4afa-967f-840d5f424916",
   "metadata": {},
   "outputs": [
    {
     "data": {
      "application/vnd.jupyter.widget-view+json": {
       "model_id": "310a266b04bd491ea815f3a597e4655c",
       "version_major": 2,
       "version_minor": 0
      },
      "text/plain": [
       "  0%|          | 0/948 [00:00<?, ?it/s]"
      ]
     },
     "metadata": {},
     "output_type": "display_data"
    }
   ],
   "source": [
    "for doc in tqdm(documents):\n",
    "    es_client.index(index=index_name, document=doc)"
   ]
  },
  {
   "cell_type": "code",
   "execution_count": 19,
   "id": "e6ef6cdf-7bed-4888-8e04-4f891208c9e8",
   "metadata": {},
   "outputs": [],
   "source": [
    "q = 'How do I execute a command in a running docker container?'"
   ]
  },
  {
   "cell_type": "code",
   "execution_count": 46,
   "id": "40719b9f-6c65-4583-ba9f-f39b9a9f6a7e",
   "metadata": {},
   "outputs": [
    {
     "data": {
      "text/plain": [
       "84.050095"
      ]
     },
     "execution_count": 46,
     "metadata": {},
     "output_type": "execute_result"
    }
   ],
   "source": [
    "search_query = {\n",
    "    \"size\": 5,\n",
    "    \"query\": {\n",
    "        \"bool\": {\n",
    "            \"must\": {\n",
    "                \"multi_match\": {\n",
    "                    \"query\": \"How do I execute a command in a running docker container?\",\n",
    "                    \"fields\": [\"question^4\", \"text\"],\n",
    "                    \"type\": \"best_fields\"\n",
    "                }\n",
    "            }\n",
    "        }\n",
    "    }\n",
    "}\n",
    "\n",
    "response = es_client.search(index=index_name, body=search_query)\n",
    "response['hits']['hits'][0]['_score']"
   ]
  },
  {
   "cell_type": "code",
   "execution_count": 38,
   "id": "ba543683-0931-49c3-a634-74ccb5addac2",
   "metadata": {},
   "outputs": [
    {
     "name": "stdout",
     "output_type": "stream",
     "text": [
      "PGCLI - running in a Docker container\n",
      "How do I check compatibility of local and container Spark versions?\n",
      "Course - how many Zoomcamps in a year?\n",
      "Should I run docker commands from the windows file system or a file system of a Linux distribution in WSL?\n",
      "Certificate - Can I follow the course in a self-paced mode and get a certificate?\n"
     ]
    }
   ],
   "source": [
    "for i in range(5):\n",
    "    print(response['hits']['hits'][i]['_source']['question'])"
   ]
  },
  {
   "cell_type": "code",
   "execution_count": 77,
   "id": "c682f76a-12df-43c8-b5a3-a97a7aba9f17",
   "metadata": {},
   "outputs": [
    {
     "data": {
      "text/plain": [
       "'How do Lambda container images work?'"
      ]
     },
     "execution_count": 77,
     "metadata": {},
     "output_type": "execute_result"
    }
   ],
   "source": [
    "search_query = {\n",
    "    \"size\": 3,\n",
    "    \"query\": {\n",
    "        \"bool\": {\n",
    "            \"must\": {\n",
    "                \"multi_match\": {\n",
    "                    \"query\": \"How do I debug a docker container?\",\n",
    "                    \"fields\": [\"question^4\", \"text\"],\n",
    "                    \"type\": \"best_fields\"\n",
    "                }\n",
    "            },\n",
    "            \"filter\": {\n",
    "                \"term\": {\n",
    "                    \"course\": \"machine-learning-zoomcamp\"\n",
    "                }\n",
    "            }\n",
    "        }\n",
    "    }\n",
    "}\n",
    "\n",
    "response = es_client.search(index=index_name, body=search_query)\n",
    "response['hits']['hits'][2]['_source']['question']"
   ]
  },
  {
   "cell_type": "code",
   "execution_count": 78,
   "id": "c98dbca7-5dc5-4221-a79f-b4614ddfdca1",
   "metadata": {},
   "outputs": [],
   "source": [
    "records = response['hits']['hits']\n",
    "context_template = \"\"\"\n",
    "Q: {question}\n",
    "A: {text}\n",
    "\"\"\".strip()\n",
    "\n",
    "context = \"\\n\\n\".join([\n",
    "    context_template.format(\n",
    "        question=record['_source']['question'],\n",
    "        text=record['_source']['text']\n",
    "    )\n",
    "    for record in records\n",
    "])\n"
   ]
  },
  {
   "cell_type": "code",
   "execution_count": 79,
   "id": "2efca3b8-c0b6-4cf9-82b2-9e0cefbc26f2",
   "metadata": {},
   "outputs": [],
   "source": [
    "prompt_template = \"\"\"\n",
    "You're a course teaching assistant. Answer the QUESTION based on the CONTEXT from the FAQ database.\n",
    "Use only the facts from the CONTEXT when answering the QUESTION.\n",
    "\n",
    "QUESTION: {question}\n",
    "\n",
    "CONTEXT:\n",
    "{context}\n",
    "\"\"\".strip()\n",
    "\n",
    "question = \"How do I execute a command in a running docker container?\"\n",
    "\n",
    "prompt = prompt_template.format(question=question, context=context)"
   ]
  },
  {
   "cell_type": "code",
   "execution_count": 80,
   "id": "87e75330-030e-47bc-9cfc-29efe73c1c11",
   "metadata": {},
   "outputs": [
    {
     "data": {
      "text/plain": [
       "1396"
      ]
     },
     "execution_count": 80,
     "metadata": {},
     "output_type": "execute_result"
    }
   ],
   "source": [
    "len(prompt)"
   ]
  },
  {
   "cell_type": "code",
   "execution_count": 82,
   "id": "b388768a-aadf-4c46-8d65-15fe052cfdef",
   "metadata": {},
   "outputs": [
    {
     "data": {
      "text/plain": [
       "\"You're a course teaching assistant. Answer the QUESTION based on the CONTEXT from the FAQ database.\\nUse only the facts from the CONTEXT when answering the QUESTION.\\n\\nQUESTION: How do I execute a command in a running docker container?\\n\\nCONTEXT:\\nQ: How do I debug a docker container?\\nA: Launch the container image in interactive mode and overriding the entrypoint, so that it starts a bash command.\\ndocker run -it --entrypoint bash <image>\\nIf the container is already running, execute a command in the specific container:\\ndocker ps (find the container-id)\\ndocker exec -it <container-id> bash\\n(Marcos MJD)\\n\\nQ: How do I copy files from my local machine to docker container?\\nA: You can copy files from your local machine into a Docker container using the docker cp command. Here's how to do it:\\nTo copy a file or directory from your local machine into a running Docker container, you can use the `docker cp command`. The basic syntax is as follows:\\ndocker cp /path/to/local/file_or_directory container_id:/path/in/container\\nHrithik Kumar Advani\\n\\nQ: How do Lambda container images work?\\nA: I wanted to understand how lambda container images work in depth and how lambda functions are initialized, for this reason, I found the following documentation\\nhttps://docs.aws.amazon.com/lambda/latest/dg/images-create.html\\nhttps://docs.aws.amazon.com/lambda/latest/dg/runtimes-api.html\\nAdded by Alejandro aponte\""
      ]
     },
     "execution_count": 82,
     "metadata": {},
     "output_type": "execute_result"
    }
   ],
   "source": [
    "prompt"
   ]
  },
  {
   "cell_type": "code",
   "execution_count": 85,
   "id": "c5228e86-701d-41b5-9bae-eb3ae160e561",
   "metadata": {},
   "outputs": [],
   "source": [
    "encoding = tiktoken.encoding_for_model(\"gpt-4o\")"
   ]
  },
  {
   "cell_type": "code",
   "execution_count": 90,
   "id": "806066fe-f013-457c-a4ef-122dce4adae0",
   "metadata": {},
   "outputs": [],
   "source": [
    "p = encoding.encode(prompt)"
   ]
  },
  {
   "cell_type": "code",
   "execution_count": 93,
   "id": "d3b41b72-e668-4b1f-ba5a-d66d6188eb84",
   "metadata": {},
   "outputs": [
    {
     "data": {
      "text/plain": [
       "305"
      ]
     },
     "execution_count": 93,
     "metadata": {},
     "output_type": "execute_result"
    }
   ],
   "source": [
    "len(p)"
   ]
  },
  {
   "cell_type": "code",
   "execution_count": 95,
   "id": "67ce1fff-4f7d-4792-90e5-5ddcdd15f17e",
   "metadata": {},
   "outputs": [
    {
     "data": {
      "text/plain": [
       "[63842,\n",
       " 261,\n",
       " 4165,\n",
       " 14029,\n",
       " 29186,\n",
       " 13,\n",
       " 30985,\n",
       " 290,\n",
       " 150339,\n",
       " 4122,\n",
       " 402,\n",
       " 290,\n",
       " 31810,\n",
       " 8099,\n",
       " 591,\n",
       " 290,\n",
       " 40251,\n",
       " 7862,\n",
       " 558,\n",
       " 8470,\n",
       " 1606,\n",
       " 290,\n",
       " 19719,\n",
       " 591,\n",
       " 290,\n",
       " 31810,\n",
       " 8099,\n",
       " 1261,\n",
       " 55959,\n",
       " 290,\n",
       " 150339,\n",
       " 364,\n",
       " 107036,\n",
       " 25,\n",
       " 3253,\n",
       " 621,\n",
       " 357,\n",
       " 15792,\n",
       " 261,\n",
       " 6348,\n",
       " 306,\n",
       " 261,\n",
       " 6788,\n",
       " 62275,\n",
       " 9282,\n",
       " 1715,\n",
       " 10637,\n",
       " 50738,\n",
       " 734,\n",
       " 48,\n",
       " 25,\n",
       " 3253,\n",
       " 621,\n",
       " 357,\n",
       " 15199,\n",
       " 261,\n",
       " 62275,\n",
       " 9282,\n",
       " 3901,\n",
       " 32,\n",
       " 25,\n",
       " 41281,\n",
       " 290,\n",
       " 9282,\n",
       " 3621,\n",
       " 306,\n",
       " 25383,\n",
       " 6766,\n",
       " 326,\n",
       " 151187,\n",
       " 290,\n",
       " 7251,\n",
       " 4859,\n",
       " 11,\n",
       " 813,\n",
       " 484,\n",
       " 480,\n",
       " 13217,\n",
       " 261,\n",
       " 38615,\n",
       " 6348,\n",
       " 558,\n",
       " 68923,\n",
       " 2461,\n",
       " 533,\n",
       " 278,\n",
       " 2230,\n",
       " 7962,\n",
       " 4859,\n",
       " 38615,\n",
       " 464,\n",
       " 3365,\n",
       " 523,\n",
       " 3335,\n",
       " 290,\n",
       " 9282,\n",
       " 382,\n",
       " 4279,\n",
       " 6788,\n",
       " 11,\n",
       " 15792,\n",
       " 261,\n",
       " 6348,\n",
       " 306,\n",
       " 290,\n",
       " 4857,\n",
       " 9282,\n",
       " 734,\n",
       " 68923,\n",
       " 10942,\n",
       " 350,\n",
       " 6555,\n",
       " 290,\n",
       " 9282,\n",
       " 26240,\n",
       " 446,\n",
       " 68923,\n",
       " 25398,\n",
       " 533,\n",
       " 278,\n",
       " 464,\n",
       " 6896,\n",
       " 26240,\n",
       " 29,\n",
       " 38615,\n",
       " 198,\n",
       " 6103,\n",
       " 277,\n",
       " 10732,\n",
       " 391,\n",
       " 79771,\n",
       " 1029,\n",
       " 48,\n",
       " 25,\n",
       " 3253,\n",
       " 621,\n",
       " 357,\n",
       " 5150,\n",
       " 6291,\n",
       " 591,\n",
       " 922,\n",
       " 2698,\n",
       " 7342,\n",
       " 316,\n",
       " 62275,\n",
       " 9282,\n",
       " 3901,\n",
       " 32,\n",
       " 25,\n",
       " 1608,\n",
       " 665,\n",
       " 5150,\n",
       " 6291,\n",
       " 591,\n",
       " 634,\n",
       " 2698,\n",
       " 7342,\n",
       " 1511,\n",
       " 261,\n",
       " 91238,\n",
       " 9282,\n",
       " 2360,\n",
       " 290,\n",
       " 62275,\n",
       " 27776,\n",
       " 6348,\n",
       " 13,\n",
       " 44257,\n",
       " 1495,\n",
       " 316,\n",
       " 621,\n",
       " 480,\n",
       " 734,\n",
       " 1385,\n",
       " 5150,\n",
       " 261,\n",
       " 1974,\n",
       " 503,\n",
       " 12552,\n",
       " 591,\n",
       " 634,\n",
       " 2698,\n",
       " 7342,\n",
       " 1511,\n",
       " 261,\n",
       " 6788,\n",
       " 91238,\n",
       " 9282,\n",
       " 11,\n",
       " 481,\n",
       " 665,\n",
       " 1199,\n",
       " 290,\n",
       " 2700,\n",
       " 68923,\n",
       " 27776,\n",
       " 6348,\n",
       " 62102,\n",
       " 623,\n",
       " 9439,\n",
       " 45440,\n",
       " 382,\n",
       " 472,\n",
       " 18183,\n",
       " 734,\n",
       " 68923,\n",
       " 27776,\n",
       " 820,\n",
       " 4189,\n",
       " 72231,\n",
       " 52214,\n",
       " 51766,\n",
       " 15400,\n",
       " 35850,\n",
       " 9282,\n",
       " 1537,\n",
       " 27975,\n",
       " 4189,\n",
       " 26985,\n",
       " 190543,\n",
       " 198,\n",
       " 106096,\n",
       " 437,\n",
       " 507,\n",
       " 70737,\n",
       " 15241,\n",
       " 3048,\n",
       " 279,\n",
       " 48,\n",
       " 25,\n",
       " 3253,\n",
       " 621,\n",
       " 88266,\n",
       " 9282,\n",
       " 7493,\n",
       " 1101,\n",
       " 3901,\n",
       " 32,\n",
       " 25,\n",
       " 357,\n",
       " 7201,\n",
       " 316,\n",
       " 4218,\n",
       " 1495,\n",
       " 27871,\n",
       " 9282,\n",
       " 7493,\n",
       " 1101,\n",
       " 306,\n",
       " 13636,\n",
       " 326,\n",
       " 1495,\n",
       " 27871,\n",
       " 9964,\n",
       " 553,\n",
       " 40319,\n",
       " 11,\n",
       " 395,\n",
       " 495,\n",
       " 5207,\n",
       " 11,\n",
       " 357,\n",
       " 2491,\n",
       " 290,\n",
       " 3992,\n",
       " 17975,\n",
       " 198,\n",
       " 4172,\n",
       " 1684,\n",
       " 28027,\n",
       " 70840,\n",
       " 32806,\n",
       " 1136,\n",
       " 16347,\n",
       " 12104,\n",
       " 72577,\n",
       " 6662,\n",
       " 70,\n",
       " 19029,\n",
       " 86871,\n",
       " 4588,\n",
       " 198,\n",
       " 4172,\n",
       " 1684,\n",
       " 28027,\n",
       " 70840,\n",
       " 32806,\n",
       " 1136,\n",
       " 16347,\n",
       " 12104,\n",
       " 72577,\n",
       " 6662,\n",
       " 70,\n",
       " 17447,\n",
       " 2202,\n",
       " 2332,\n",
       " 48858,\n",
       " 4588,\n",
       " 198,\n",
       " 27387,\n",
       " 656,\n",
       " 85311,\n",
       " 261,\n",
       " 716,\n",
       " 411]"
      ]
     },
     "execution_count": 95,
     "metadata": {},
     "output_type": "execute_result"
    }
   ],
   "source": [
    "p"
   ]
  },
  {
   "cell_type": "code",
   "execution_count": 96,
   "id": "fa1efd4e-cc20-47cd-8403-80d105be23b8",
   "metadata": {},
   "outputs": [
    {
     "data": {
      "text/plain": [
       "b' course'"
      ]
     },
     "execution_count": 96,
     "metadata": {},
     "output_type": "execute_result"
    }
   ],
   "source": [
    "encoding.decode_single_token_bytes(4165)"
   ]
  },
  {
   "cell_type": "code",
   "execution_count": null,
   "id": "8b7d42f6-99d0-4fd9-94b6-485bab1329cf",
   "metadata": {},
   "outputs": [],
   "source": []
  },
  {
   "cell_type": "code",
   "execution_count": null,
   "id": "e695da17-8ae4-41db-9a1d-fe6efd771769",
   "metadata": {},
   "outputs": [],
   "source": []
  },
  {
   "cell_type": "code",
   "execution_count": null,
   "id": "2c5c94bc-a3c5-44d5-946a-1bb78938aec1",
   "metadata": {},
   "outputs": [],
   "source": []
  }
 ],
 "metadata": {
  "kernelspec": {
   "display_name": "Python 3 (ipykernel)",
   "language": "python",
   "name": "python3"
  },
  "language_info": {
   "codemirror_mode": {
    "name": "ipython",
    "version": 3
   },
   "file_extension": ".py",
   "mimetype": "text/x-python",
   "name": "python",
   "nbconvert_exporter": "python",
   "pygments_lexer": "ipython3",
   "version": "3.11.7"
  }
 },
 "nbformat": 4,
 "nbformat_minor": 5
}
